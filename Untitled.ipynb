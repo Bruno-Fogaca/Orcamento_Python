{
 "cells": [
  {
   "cell_type": "markdown",
   "id": "4c05b89c",
   "metadata": {},
   "source": [
    "# Inicio"
   ]
  },
  {
   "cell_type": "markdown",
   "id": "d74a7f2d",
   "metadata": {},
   "source": [
    "# Guardando dados"
   ]
  },
  {
   "cell_type": "code",
   "execution_count": 1,
   "id": "2e2227f6",
   "metadata": {},
   "outputs": [
    {
     "name": "stdout",
     "output_type": "stream",
     "text": [
      "Digite a descrição do serviço: Projeção de valor do projeto\n",
      "informe a quantidade de horas estimadas: 45\n",
      "Digite o valor da hora trabalhada: 100\n",
      "informe o tempo estimado para concluir o serviço: 1 mes\n"
     ]
    }
   ],
   "source": [
    "projeto = input('Digite a descrição do serviço: ')\n",
    "horas_estimadas = input('informe a quantidade de horas estimadas: ')\n",
    "valor_horas = input('Digite o valor da hora trabalhada: ')\n",
    "prazo = input(\"informe o tempo estimado para concluir o serviço: \")"
   ]
  },
  {
   "cell_type": "code",
   "execution_count": 2,
   "id": "229bb585",
   "metadata": {},
   "outputs": [
    {
     "name": "stdout",
     "output_type": "stream",
     "text": [
      "Projeção de valor do projeto\n",
      "45\n",
      "100\n",
      "1 mes\n"
     ]
    }
   ],
   "source": [
    "print(projeto)\n",
    "print(horas_estimadas)\n",
    "print(valor_horas)\n",
    "print(prazo)\n"
   ]
  },
  {
   "cell_type": "markdown",
   "id": "fd04c34a",
   "metadata": {},
   "source": [
    "# Cálculos"
   ]
  },
  {
   "cell_type": "code",
   "execution_count": 8,
   "id": "74afa8b1",
   "metadata": {},
   "outputs": [
    {
     "name": "stdout",
     "output_type": "stream",
     "text": [
      "4500\n"
     ]
    }
   ],
   "source": [
    "valor_total = int(horas_estimadas)*int(valor_horas)\n",
    "print(valor_total)"
   ]
  },
  {
   "cell_type": "code",
   "execution_count": null,
   "id": "1d18de53",
   "metadata": {},
   "outputs": [],
   "source": []
  },
  {
   "cell_type": "markdown",
   "id": "b02097d5",
   "metadata": {},
   "source": [
    "# Gerando o PDF"
   ]
  },
  {
   "cell_type": "code",
   "execution_count": 4,
   "id": "9f838e0f",
   "metadata": {},
   "outputs": [
    {
     "name": "stdout",
     "output_type": "stream",
     "text": [
      "Requirement already satisfied: fpdf in c:\\users\\bruno\\anaconda3\\lib\\site-packages (1.7.2)\n"
     ]
    }
   ],
   "source": [
    "!pip install fpdf"
   ]
  },
  {
   "cell_type": "code",
   "execution_count": 5,
   "id": "755bb4ff",
   "metadata": {},
   "outputs": [],
   "source": [
    "from fpdf import FPDF"
   ]
  },
  {
   "cell_type": "code",
   "execution_count": 10,
   "id": "7a387e8c",
   "metadata": {},
   "outputs": [
    {
     "name": "stdout",
     "output_type": "stream",
     "text": [
      "Orçamento gerado com sucesso\n"
     ]
    }
   ],
   "source": [
    "pdf = FPDF()\n",
    "pdf.add_page( )\n",
    "pdf.set_font(\"Arial\")\n",
    "pdf.image(\"template.png\", x=0, y=0)\n",
    "pdf.text(115, 145, projeto)\n",
    "pdf.text(115, 160, horas_estimadas)\n",
    "pdf.text(115, 175, valor_horas)\n",
    "pdf.text(115, 190, prazo)\n",
    "pdf.text(115, 205, str(valor_total))\n",
    "\n",
    "pdf.output(\"Orçamento.pdf\")\n",
    "print(\"Orçamento gerado com sucesso\")"
   ]
  },
  {
   "cell_type": "code",
   "execution_count": null,
   "id": "7af10fb9",
   "metadata": {},
   "outputs": [],
   "source": []
  }
 ],
 "metadata": {
  "kernelspec": {
   "display_name": "Python 3 (ipykernel)",
   "language": "python",
   "name": "python3"
  },
  "language_info": {
   "codemirror_mode": {
    "name": "ipython",
    "version": 3
   },
   "file_extension": ".py",
   "mimetype": "text/x-python",
   "name": "python",
   "nbconvert_exporter": "python",
   "pygments_lexer": "ipython3",
   "version": "3.9.12"
  }
 },
 "nbformat": 4,
 "nbformat_minor": 5
}
